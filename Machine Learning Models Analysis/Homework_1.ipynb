{
 "cells": [
  {
   "cell_type": "markdown",
   "id": "stopped-conflict",
   "metadata": {},
   "source": [
    "## <span style=\"color:red\"> Homework 1 </span>"
   ]
  },
  {
   "cell_type": "markdown",
   "id": "5b780bc9",
   "metadata": {},
   "source": [
    "# Disclaimer\n",
    "* This notebook has been written by Benjamin Amar in 2023 DSAIS class at Em-Lyon.\n",
    "* Generative AI (ChatGPT 4) has been used for debugging, inspiration.\n",
    "* I have wasted way too much time to improve my R² for the linear regression instead of accepting the fact that it's not meant to predict binary features."
   ]
  },
  {
   "cell_type": "markdown",
   "id": "hungry-appendix",
   "metadata": {},
   "source": [
    "**I. Data splitting and merging by columns**\n",
    "\n",
    "1. Import your toy dataset with pandas\n",
    "2. Split your dataframe into two other dataframes : all the categorical variables in one hand and all the quantitative variables in the other hand\n",
    "3. Save these two dataframes into two different csv files\n",
    "4. Import these two csv files and merge them back together : do you retrieve your original dataframe?"
   ]
  },
  {
   "cell_type": "code",
   "execution_count": 1,
   "id": "2c03cdda",
   "metadata": {},
   "outputs": [],
   "source": [
    "import pandas as pd\n",
    "import numpy as np\n",
    "import seaborn as sns"
   ]
  },
  {
   "cell_type": "code",
   "execution_count": 2,
   "id": "00a59717",
   "metadata": {
    "scrolled": false
   },
   "outputs": [
    {
     "data": {
      "text/html": [
       "<div>\n",
       "<style scoped>\n",
       "    .dataframe tbody tr th:only-of-type {\n",
       "        vertical-align: middle;\n",
       "    }\n",
       "\n",
       "    .dataframe tbody tr th {\n",
       "        vertical-align: top;\n",
       "    }\n",
       "\n",
       "    .dataframe thead th {\n",
       "        text-align: right;\n",
       "    }\n",
       "</style>\n",
       "<table border=\"1\" class=\"dataframe\">\n",
       "  <thead>\n",
       "    <tr style=\"text-align: right;\">\n",
       "      <th></th>\n",
       "      <th>Rank</th>\n",
       "      <th>Game</th>\n",
       "      <th>Month_str</th>\n",
       "      <th>Month</th>\n",
       "      <th>Year</th>\n",
       "      <th>YearTop1</th>\n",
       "      <th>Hours_watched</th>\n",
       "      <th>Hours_streamed</th>\n",
       "      <th>Peak_viewers</th>\n",
       "      <th>Peak_channels</th>\n",
       "      <th>Streamers</th>\n",
       "      <th>Avg_viewers</th>\n",
       "      <th>Avg_channels</th>\n",
       "      <th>Avg_viewer_ratio</th>\n",
       "    </tr>\n",
       "  </thead>\n",
       "  <tbody>\n",
       "    <tr>\n",
       "      <th>0</th>\n",
       "      <td>1.0</td>\n",
       "      <td>League of Legends</td>\n",
       "      <td>NaN</td>\n",
       "      <td>1.0</td>\n",
       "      <td>2016.0</td>\n",
       "      <td>False</td>\n",
       "      <td>94377226.0</td>\n",
       "      <td>1362044.0</td>\n",
       "      <td>530270.0</td>\n",
       "      <td>2903.0</td>\n",
       "      <td>129172.0</td>\n",
       "      <td>127021.0</td>\n",
       "      <td>NaN</td>\n",
       "      <td>69.29</td>\n",
       "    </tr>\n",
       "    <tr>\n",
       "      <th>1</th>\n",
       "      <td>2.0</td>\n",
       "      <td>Counter-Strike: Global Offensive</td>\n",
       "      <td>January</td>\n",
       "      <td>1.0</td>\n",
       "      <td>2016.0</td>\n",
       "      <td>True</td>\n",
       "      <td>47832863.0</td>\n",
       "      <td>830105.0</td>\n",
       "      <td>372654.0</td>\n",
       "      <td>2197.0</td>\n",
       "      <td>NaN</td>\n",
       "      <td>64378.0</td>\n",
       "      <td>1117.0</td>\n",
       "      <td>57.62</td>\n",
       "    </tr>\n",
       "    <tr>\n",
       "      <th>2</th>\n",
       "      <td>3.0</td>\n",
       "      <td>Dota 2</td>\n",
       "      <td>January</td>\n",
       "      <td>1.0</td>\n",
       "      <td>2016.0</td>\n",
       "      <td>False</td>\n",
       "      <td>45185893.0</td>\n",
       "      <td>433397.0</td>\n",
       "      <td>NaN</td>\n",
       "      <td>1100.0</td>\n",
       "      <td>44074.0</td>\n",
       "      <td>60815.0</td>\n",
       "      <td>583.0</td>\n",
       "      <td>104.26</td>\n",
       "    </tr>\n",
       "    <tr>\n",
       "      <th>3</th>\n",
       "      <td>4.0</td>\n",
       "      <td>Hearthstone</td>\n",
       "      <td>January</td>\n",
       "      <td>1.0</td>\n",
       "      <td>2016.0</td>\n",
       "      <td>False</td>\n",
       "      <td>39936159.0</td>\n",
       "      <td>235903.0</td>\n",
       "      <td>NaN</td>\n",
       "      <td>NaN</td>\n",
       "      <td>36170.0</td>\n",
       "      <td>53749.0</td>\n",
       "      <td>317.0</td>\n",
       "      <td>169.29</td>\n",
       "    </tr>\n",
       "    <tr>\n",
       "      <th>4</th>\n",
       "      <td>5.0</td>\n",
       "      <td>Call of Duty: Black Ops III</td>\n",
       "      <td>January</td>\n",
       "      <td>1.0</td>\n",
       "      <td>2016.0</td>\n",
       "      <td>False</td>\n",
       "      <td>16153057.0</td>\n",
       "      <td>1151578.0</td>\n",
       "      <td>71639.0</td>\n",
       "      <td>NaN</td>\n",
       "      <td>214054.0</td>\n",
       "      <td>21740.0</td>\n",
       "      <td>1549.0</td>\n",
       "      <td>14.03</td>\n",
       "    </tr>\n",
       "  </tbody>\n",
       "</table>\n",
       "</div>"
      ],
      "text/plain": [
       "   Rank                              Game Month_str  Month    Year  YearTop1  \\\n",
       "0   1.0                 League of Legends       NaN    1.0  2016.0     False   \n",
       "1   2.0  Counter-Strike: Global Offensive   January    1.0  2016.0      True   \n",
       "2   3.0                            Dota 2   January    1.0  2016.0     False   \n",
       "3   4.0                       Hearthstone   January    1.0  2016.0     False   \n",
       "4   5.0       Call of Duty: Black Ops III   January    1.0  2016.0     False   \n",
       "\n",
       "   Hours_watched  Hours_streamed  Peak_viewers  Peak_channels  Streamers  \\\n",
       "0     94377226.0       1362044.0      530270.0         2903.0   129172.0   \n",
       "1     47832863.0        830105.0      372654.0         2197.0        NaN   \n",
       "2     45185893.0        433397.0           NaN         1100.0    44074.0   \n",
       "3     39936159.0        235903.0           NaN            NaN    36170.0   \n",
       "4     16153057.0       1151578.0       71639.0            NaN   214054.0   \n",
       "\n",
       "   Avg_viewers  Avg_channels  Avg_viewer_ratio  \n",
       "0     127021.0           NaN             69.29  \n",
       "1      64378.0        1117.0             57.62  \n",
       "2      60815.0         583.0            104.26  \n",
       "3      53749.0         317.0            169.29  \n",
       "4      21740.0        1549.0             14.03  "
      ]
     },
     "execution_count": 2,
     "metadata": {},
     "output_type": "execute_result"
    }
   ],
   "source": [
    "toydataset = pd.read_csv(\"Toydataset.csv\")\n",
    "\n",
    "toydataset.head()"
   ]
  },
  {
   "cell_type": "code",
   "execution_count": 3,
   "id": "88f62525",
   "metadata": {},
   "outputs": [
    {
     "data": {
      "image/png": "[encoded data removed]",
      "text/plain": [
       "<Figure size 432x288 with 1 Axes>"
      ]
     },
     "metadata": {
      "needs_background": "light"
     },
     "output_type": "display_data"
    }
   ],
   "source": [
    "sns.scatterplot(x = \"Avg_viewers\", y = \"Streamers\", \n",
    "                hue = \"Year\", \n",
    "                data = toydataset, palette = \"bright\");"
   ]
  },
  {
   "cell_type": "code",
   "execution_count": 4,
   "id": "7640f633",
   "metadata": {},
   "outputs": [
    {
     "data": {
      "text/plain": [
       "(                               Game Month_str  YearTop1\n",
       " 0                 League of Legends       NaN     False\n",
       " 1  Counter-Strike: Global Offensive   January      True\n",
       " 2                            Dota 2   January     False\n",
       " 3                       Hearthstone   January     False\n",
       " 4       Call of Duty: Black Ops III   January     False,\n",
       "    Rank  Month    Year  Hours_watched  Hours_streamed  Peak_viewers  \\\n",
       " 0   1.0    1.0  2016.0     94377226.0       1362044.0      530270.0   \n",
       " 1   2.0    1.0  2016.0     47832863.0        830105.0      372654.0   \n",
       " 2   3.0    1.0  2016.0     45185893.0        433397.0           NaN   \n",
       " 3   4.0    1.0  2016.0     39936159.0        235903.0           NaN   \n",
       " 4   5.0    1.0  2016.0     16153057.0       1151578.0       71639.0   \n",
       " \n",
       "    Peak_channels  Streamers  Avg_viewers  Avg_channels  Avg_viewer_ratio  \n",
       " 0         2903.0   129172.0     127021.0           NaN             69.29  \n",
       " 1         2197.0        NaN      64378.0        1117.0             57.62  \n",
       " 2         1100.0    44074.0      60815.0         583.0            104.26  \n",
       " 3            NaN    36170.0      53749.0         317.0            169.29  \n",
       " 4            NaN   214054.0      21740.0        1549.0             14.03  )"
      ]
     },
     "execution_count": 4,
     "metadata": {},
     "output_type": "execute_result"
    }
   ],
   "source": [
    "# Splitting the dataframe based on data types\n",
    "toydataset_categorical = toydataset.select_dtypes(include=['object', 'bool'])\n",
    "toydataset_quantitative = toydataset.select_dtypes(exclude=['object', 'bool'])\n",
    "\n",
    "toydataset_categorical.head(), toydataset_quantitative.head()"
   ]
  },
  {
   "cell_type": "code",
   "execution_count": 5,
   "id": "d5a072fe",
   "metadata": {},
   "outputs": [
    {
     "data": {
      "text/plain": [
       "False"
      ]
     },
     "execution_count": 5,
     "metadata": {},
     "output_type": "execute_result"
    }
   ],
   "source": [
    "# Saving dataframes\n",
    "toydataset_categorical.to_csv(\"Toydataset_data_categorical.csv\", index=False)\n",
    "toydataset_quantitative.to_csv(\"Toydataset_data_quantitative.csv\", index=False)\n",
    "\n",
    "# Importing back the files\n",
    "toydataset_categorical = pd.read_csv(\"Toydataset_data_categorical.csv\")\n",
    "toydataset_quantitative = pd.read_csv(\"Toydataset_data_quantitative.csv\")\n",
    "\n",
    "# Merging dataframes\n",
    "toydataset_merged = pd.concat([toydataset_quantitative, toydataset_categorical], axis=1)\n",
    "\n",
    "# Check if the merged dataframe is the same as the original\n",
    "toydataset.equals(toydataset_merged)"
   ]
  },
  {
   "cell_type": "markdown",
   "id": "77644d97",
   "metadata": {},
   "source": [
    "It's not the same as the original because we need to move the columns at their original index"
   ]
  },
  {
   "cell_type": "code",
   "execution_count": 6,
   "id": "84e35afa",
   "metadata": {},
   "outputs": [
    {
     "data": {
      "text/plain": [
       "True"
      ]
     },
     "execution_count": 6,
     "metadata": {},
     "output_type": "execute_result"
    }
   ],
   "source": [
    "# Rearranging the columns\n",
    "correct_order = ['Rank', 'Game', 'Month_str', 'Month', 'Year', 'YearTop1', 'Hours_watched', 'Hours_streamed', \n",
    "                 'Peak_viewers', 'Peak_channels', 'Streamers', 'Avg_viewers', 'Avg_channels', 'Avg_viewer_ratio']\n",
    "\n",
    "toydataset_merged_correct_order = toydataset_merged[correct_order]\n",
    "\n",
    "# Check if the correctly ordered merged dataframe is the same as the original\n",
    "toydataset.equals(toydataset_merged_correct_order)"
   ]
  },
  {
   "cell_type": "markdown",
   "id": "413b65a5",
   "metadata": {},
   "source": [
    "**II. Data splitting and merging by rows**\n",
    "1. Now split your toy dataset in two parts with the 30% first rows called test and the 70% remaining rows called train\n",
    "2. save your test set and your train set in two different csv files\n",
    "3. Import these two csv files and merge them back together : do you retrieve your original dataframe?"
   ]
  },
  {
   "cell_type": "code",
   "execution_count": 7,
   "id": "aa158d7d",
   "metadata": {},
   "outputs": [],
   "source": [
    "# Splitting the data\n",
    "split_point = int(0.3 * len(toydataset))\n",
    "test_data = toydataset.iloc[:split_point]\n",
    "train_data = toydataset.iloc[split_point:]\n",
    "\n",
    "# Saving the data\n",
    "test_data.to_csv(\"Toydataset_data_test.csv\", index=False)\n",
    "train_data.to_csv(\"Toydataset_data_train.csv\", index=False)"
   ]
  },
  {
   "cell_type": "code",
   "execution_count": 8,
   "id": "6811f9b4",
   "metadata": {},
   "outputs": [
    {
     "data": {
      "text/plain": [
       "True"
      ]
     },
     "execution_count": 8,
     "metadata": {},
     "output_type": "execute_result"
    }
   ],
   "source": [
    "# Importing the data from the saved CSVs\n",
    "test_imported = pd.read_csv(\"Toydataset_data_test.csv\")\n",
    "train_imported = pd.read_csv(\"Toydataset_data_train.csv\")\n",
    "\n",
    "# Merging the datasets\n",
    "merged_data = pd.concat([test_imported, train_imported], axis=0).reset_index(drop=True)\n",
    "\n",
    "# Check if the merged dataframe is equal to the original dataframe\n",
    "toydataset.equals(merged_data)"
   ]
  },
  {
   "cell_type": "markdown",
   "id": "4cb9e387",
   "metadata": {},
   "source": [
    "**III. Linear Regression:**\n",
    "\n",
    "*Select an appropriate binary variable - justify your choice if possible - to be used as output*\n",
    "\n",
    "1. Import a Linear Regression Model from the appropriate Python package(s)\n",
    "2. Train your model\n",
    "3. Compute the performance of your Linear Regression Model in several ways and justify your choice\n",
    "4. Provide test statistics and standardized values to your estimated parameters\n",
    "5. Given a full interpretation of your results, including variable importance and explainability if possible"
   ]
  },
  {
   "cell_type": "markdown",
   "id": "e8b099fe",
   "metadata": {},
   "source": [
    "* We choose YearTop1 as our target value since it's the only binary one\n",
    "\n",
    "* YearTop1 is a value representing if the selected game is the most watched in average on Twitch of the year.\n",
    "\n",
    "* Handle missing values\n",
    "\n",
    "* Encode categorical variables to numerical variables\n",
    "\n"
   ]
  },
  {
   "cell_type": "code",
   "execution_count": 9,
   "id": "f1c416b9",
   "metadata": {},
   "outputs": [
    {
     "name": "stdout",
     "output_type": "stream",
     "text": [
      "Populating the interactive namespace from numpy and matplotlib\n"
     ]
    }
   ],
   "source": [
    "from sklearn.impute import SimpleImputer\n",
    "from sklearn.linear_model import LinearRegression\n",
    "from sklearn.model_selection import train_test_split\n",
    "from sklearn.metrics import mean_squared_error, r2_score\n",
    "import numpy as np\n",
    "import pandas as pd\n",
    "%pylab inline\n",
    "import seaborn as sns"
   ]
  },
  {
   "cell_type": "code",
   "execution_count": 10,
   "id": "7b173c19",
   "metadata": {},
   "outputs": [],
   "source": [
    "# Drop the 'Month_str' column because it's the same information as 'Month' feature\n",
    "toydataset.drop(['Month_str'], axis=1, inplace=True)"
   ]
  },
  {
   "cell_type": "markdown",
   "id": "ed77bf16",
   "metadata": {},
   "source": [
    "### Let's handle the NaN values"
   ]
  },
  {
   "cell_type": "code",
   "execution_count": 11,
   "id": "0511430f",
   "metadata": {},
   "outputs": [
    {
     "data": {
      "text/plain": [
       "Rank                0\n",
       "Game                0\n",
       "Month               0\n",
       "Year                0\n",
       "YearTop1            0\n",
       "Hours_watched       0\n",
       "Hours_streamed      0\n",
       "Peak_viewers        0\n",
       "Peak_channels       0\n",
       "Streamers           0\n",
       "Avg_viewers         0\n",
       "Avg_channels        0\n",
       "Avg_viewer_ratio    0\n",
       "dtype: int64"
      ]
     },
     "execution_count": 11,
     "metadata": {},
     "output_type": "execute_result"
    }
   ],
   "source": [
    "# Define imputers\n",
    "median_imputer = SimpleImputer(strategy='median')\n",
    "mode_imputer = SimpleImputer(strategy='most_frequent')\n",
    "\n",
    "# NaN in Game columns are dropped since we don't know which game they are referring to\n",
    "toydataset.dropna(subset=['Game'], inplace=True)\n",
    "\n",
    "# Columns to be imputed\n",
    "median_cols = ['Hours_watched', 'Hours_streamed', 'Peak_viewers', 'Peak_channels', 'Streamers', 'Avg_viewers', 'Avg_channels', 'Avg_viewer_ratio']\n",
    "mode_cols = ['Month', 'Year', 'Rank']\n",
    "\n",
    "# Apply imputers on training data\n",
    "toydataset[median_cols] = median_imputer.fit_transform(toydataset[median_cols])\n",
    "toydataset[mode_cols] = mode_imputer.fit_transform(toydataset[mode_cols])\n",
    "\n",
    "# Apply imputers on test data (Note: We use the same imputer object to prevent data leakage)\n",
    "toydataset[median_cols] = median_imputer.transform(toydataset[median_cols])\n",
    "toydataset[mode_cols] = mode_imputer.transform(toydataset[mode_cols])\n",
    "\n",
    "# Check if NaN values are eliminated\n",
    "toydataset.isna().sum()"
   ]
  },
  {
   "cell_type": "markdown",
   "id": "2cd87c56",
   "metadata": {},
   "source": [
    "### We tried using one hot encoding method, however with the high amount of categories in our categorical feature, we should aim towards an other kind of encoding method."
   ]
  },
  {
   "cell_type": "code",
   "execution_count": 12,
   "id": "16d5b332",
   "metadata": {
    "scrolled": true
   },
   "outputs": [
    {
     "data": {
      "text/plain": [
       "\"\\nfor column in ['Game']:\\n    dummies = pd.get_dummies(toydataset[column])\\n    dummies.columns = ['_'.join([column.upper(), str(c).replace(' ', '_')]) for c in dummies.columns]\\n    plt.figure()\\n    dummies.mean().plot(kind='barh')\\n    plt.title(f'Visualisation de la fréquence des dummies\\npour la variable {column}')\\n    plt.xlabel('Fréquence')\\n    plt.show()\\n    dummies.drop(dummies.columns[-1], axis=1, inplace=True)\\n    toydataset = toydataset.drop(column, axis=1)\\n    toydataset = pd.concat([toydataset.T, dummies.T]).T\\n\""
      ]
     },
     "execution_count": 12,
     "metadata": {},
     "output_type": "execute_result"
    }
   ],
   "source": [
    "#Encoding categorical nominal features with One Hot Encoding method\n",
    "\"\"\"\n",
    "for column in ['Game']:\n",
    "    dummies = pd.get_dummies(toydataset[column])\n",
    "    dummies.columns = ['_'.join([column.upper(), str(c).replace(' ', '_')]) for c in dummies.columns]\n",
    "    plt.figure()\n",
    "    dummies.mean().plot(kind='barh')\n",
    "    plt.title(f'Visualisation de la fréquence des dummies\\npour la variable {column}')\n",
    "    plt.xlabel('Fréquence')\n",
    "    plt.show()\n",
    "    dummies.drop(dummies.columns[-1], axis=1, inplace=True)\n",
    "    toydataset = toydataset.drop(column, axis=1)\n",
    "    toydataset = pd.concat([toydataset.T, dummies.T]).T\n",
    "\"\"\""
   ]
  },
  {
   "cell_type": "markdown",
   "id": "19f45a21",
   "metadata": {},
   "source": [
    "### Let's use the frequency encoding method"
   ]
  },
  {
   "cell_type": "code",
   "execution_count": 13,
   "id": "0bf80bdd",
   "metadata": {},
   "outputs": [],
   "source": [
    "# Perform Frequency Encoding on the 'Game' column in the training dataset\n",
    "frequency_encoding = toydataset['Game'].value_counts() / len(toydataset)\n",
    "toydataset['Game_freq_enc'] = toydataset['Game'].map(frequency_encoding)"
   ]
  },
  {
   "cell_type": "code",
   "execution_count": 14,
   "id": "5a9c1971",
   "metadata": {
    "scrolled": false
   },
   "outputs": [
    {
     "data": {
      "text/html": [
       "<div>\n",
       "<style scoped>\n",
       "    .dataframe tbody tr th:only-of-type {\n",
       "        vertical-align: middle;\n",
       "    }\n",
       "\n",
       "    .dataframe tbody tr th {\n",
       "        vertical-align: top;\n",
       "    }\n",
       "\n",
       "    .dataframe thead th {\n",
       "        text-align: right;\n",
       "    }\n",
       "</style>\n",
       "<table border=\"1\" class=\"dataframe\">\n",
       "  <thead>\n",
       "    <tr style=\"text-align: right;\">\n",
       "      <th></th>\n",
       "      <th>Rank</th>\n",
       "      <th>Game</th>\n",
       "      <th>Month</th>\n",
       "      <th>Year</th>\n",
       "      <th>YearTop1</th>\n",
       "      <th>Hours_watched</th>\n",
       "      <th>Hours_streamed</th>\n",
       "      <th>Peak_viewers</th>\n",
       "      <th>Peak_channels</th>\n",
       "      <th>Streamers</th>\n",
       "      <th>Avg_viewers</th>\n",
       "      <th>Avg_channels</th>\n",
       "      <th>Avg_viewer_ratio</th>\n",
       "      <th>Game_freq_enc</th>\n",
       "    </tr>\n",
       "  </thead>\n",
       "  <tbody>\n",
       "    <tr>\n",
       "      <th>0</th>\n",
       "      <td>1.0</td>\n",
       "      <td>League of Legends</td>\n",
       "      <td>1.0</td>\n",
       "      <td>2016.0</td>\n",
       "      <td>False</td>\n",
       "      <td>94377226.0</td>\n",
       "      <td>1362044.0</td>\n",
       "      <td>530270.0</td>\n",
       "      <td>2903.0</td>\n",
       "      <td>129172.0</td>\n",
       "      <td>127021.0</td>\n",
       "      <td>53.0</td>\n",
       "      <td>69.29</td>\n",
       "      <td>0.005200</td>\n",
       "    </tr>\n",
       "    <tr>\n",
       "      <th>1</th>\n",
       "      <td>2.0</td>\n",
       "      <td>Counter-Strike: Global Offensive</td>\n",
       "      <td>1.0</td>\n",
       "      <td>2016.0</td>\n",
       "      <td>True</td>\n",
       "      <td>47832863.0</td>\n",
       "      <td>830105.0</td>\n",
       "      <td>372654.0</td>\n",
       "      <td>2197.0</td>\n",
       "      <td>5011.5</td>\n",
       "      <td>64378.0</td>\n",
       "      <td>1117.0</td>\n",
       "      <td>57.62</td>\n",
       "      <td>0.005019</td>\n",
       "    </tr>\n",
       "    <tr>\n",
       "      <th>2</th>\n",
       "      <td>3.0</td>\n",
       "      <td>Dota 2</td>\n",
       "      <td>1.0</td>\n",
       "      <td>2016.0</td>\n",
       "      <td>False</td>\n",
       "      <td>45185893.0</td>\n",
       "      <td>433397.0</td>\n",
       "      <td>22801.0</td>\n",
       "      <td>1100.0</td>\n",
       "      <td>44074.0</td>\n",
       "      <td>60815.0</td>\n",
       "      <td>583.0</td>\n",
       "      <td>104.26</td>\n",
       "      <td>0.005080</td>\n",
       "    </tr>\n",
       "    <tr>\n",
       "      <th>3</th>\n",
       "      <td>4.0</td>\n",
       "      <td>Hearthstone</td>\n",
       "      <td>1.0</td>\n",
       "      <td>2016.0</td>\n",
       "      <td>False</td>\n",
       "      <td>39936159.0</td>\n",
       "      <td>235903.0</td>\n",
       "      <td>22801.0</td>\n",
       "      <td>146.0</td>\n",
       "      <td>36170.0</td>\n",
       "      <td>53749.0</td>\n",
       "      <td>317.0</td>\n",
       "      <td>169.29</td>\n",
       "      <td>0.004838</td>\n",
       "    </tr>\n",
       "    <tr>\n",
       "      <th>4</th>\n",
       "      <td>5.0</td>\n",
       "      <td>Call of Duty: Black Ops III</td>\n",
       "      <td>1.0</td>\n",
       "      <td>2016.0</td>\n",
       "      <td>False</td>\n",
       "      <td>16153057.0</td>\n",
       "      <td>1151578.0</td>\n",
       "      <td>71639.0</td>\n",
       "      <td>146.0</td>\n",
       "      <td>214054.0</td>\n",
       "      <td>21740.0</td>\n",
       "      <td>1549.0</td>\n",
       "      <td>14.03</td>\n",
       "      <td>0.002177</td>\n",
       "    </tr>\n",
       "  </tbody>\n",
       "</table>\n",
       "</div>"
      ],
      "text/plain": [
       "   Rank                              Game  Month    Year  YearTop1  \\\n",
       "0   1.0                 League of Legends    1.0  2016.0     False   \n",
       "1   2.0  Counter-Strike: Global Offensive    1.0  2016.0      True   \n",
       "2   3.0                            Dota 2    1.0  2016.0     False   \n",
       "3   4.0                       Hearthstone    1.0  2016.0     False   \n",
       "4   5.0       Call of Duty: Black Ops III    1.0  2016.0     False   \n",
       "\n",
       "   Hours_watched  Hours_streamed  Peak_viewers  Peak_channels  Streamers  \\\n",
       "0     94377226.0       1362044.0      530270.0         2903.0   129172.0   \n",
       "1     47832863.0        830105.0      372654.0         2197.0     5011.5   \n",
       "2     45185893.0        433397.0       22801.0         1100.0    44074.0   \n",
       "3     39936159.0        235903.0       22801.0          146.0    36170.0   \n",
       "4     16153057.0       1151578.0       71639.0          146.0   214054.0   \n",
       "\n",
       "   Avg_viewers  Avg_channels  Avg_viewer_ratio  Game_freq_enc  \n",
       "0     127021.0          53.0             69.29       0.005200  \n",
       "1      64378.0        1117.0             57.62       0.005019  \n",
       "2      60815.0         583.0            104.26       0.005080  \n",
       "3      53749.0         317.0            169.29       0.004838  \n",
       "4      21740.0        1549.0             14.03       0.002177  "
      ]
     },
     "execution_count": 14,
     "metadata": {},
     "output_type": "execute_result"
    }
   ],
   "source": [
    "toydataset.head()"
   ]
  },
  {
   "cell_type": "markdown",
   "id": "be839700",
   "metadata": {},
   "source": [
    "### Our dataset is now clean and ready for training"
   ]
  },
  {
   "cell_type": "code",
   "execution_count": 15,
   "id": "ffa8da0e",
   "metadata": {
    "scrolled": false
   },
   "outputs": [
    {
     "data": {
      "text/plain": [
       "<seaborn.axisgrid.FacetGrid at 0x1b56f720d30>"
      ]
     },
     "execution_count": 15,
     "metadata": {},
     "output_type": "execute_result"
    },
    {
     "data": {
      "image/png": "[encoded data removed]",
      "text/plain": [
       "<Figure size 360x360 with 1 Axes>"
      ]
     },
     "metadata": {
      "needs_background": "light"
     },
     "output_type": "display_data"
    }
   ],
   "source": [
    "sns.displot(toydataset[\"Game_freq_enc\"])"
   ]
  },
  {
   "cell_type": "code",
   "execution_count": 16,
   "id": "1daee7fa",
   "metadata": {},
   "outputs": [],
   "source": [
    "# Prepare feature matrix X and target vector y\n",
    "X = toydataset.drop(['YearTop1'], axis=1)\n",
    "y = toydataset['YearTop1']\n",
    "\n",
    "# Convert YearTop1 to numerical format (0 or 1)\n",
    "y = y.astype(int)\n",
    "\n",
    "# Drop non-numeric columns\n",
    "X = X.select_dtypes(include=[np.number])\n",
    "\n",
    "\n",
    "# Split the data into training and testing sets\n",
    "X_train, X_test, y_train, y_test = train_test_split(X, y, test_size=0.3, random_state=42)"
   ]
  },
  {
   "cell_type": "code",
   "execution_count": 17,
   "id": "6cce2278",
   "metadata": {},
   "outputs": [],
   "source": [
    "from sklearn.preprocessing import StandardScaler\n",
    "from sklearn.linear_model import LinearRegression\n",
    "from sklearn.pipeline import make_pipeline\n",
    "\n",
    "# Create a pipeline that first normalizes the data then applies linear regression\n",
    "lr_pipeline = make_pipeline(StandardScaler(), LinearRegression()) #This part was edited because normalize parameter is deprecated\n",
    "\n",
    "# Train the model using the training data\n",
    "lr_pipeline.fit(X_train, y_train)\n",
    "\n",
    "# Predict the test set\n",
    "y_pred = lr_pipeline.predict(X_test)"
   ]
  },
  {
   "cell_type": "code",
   "execution_count": 18,
   "id": "ae72a9b9",
   "metadata": {
    "scrolled": true
   },
   "outputs": [
    {
     "name": "stdout",
     "output_type": "stream",
     "text": [
      "Mean Squared Error:  0.10086808000421683\n",
      "R2 Score:  0.00031687606338803853\n",
      "Root Mean Squared Error:  0.317597355159354\n",
      "Error:  2.7212992032488277\n"
     ]
    }
   ],
   "source": [
    "# evaluate the model\n",
    "from sklearn.metrics import mean_squared_error, r2_score\n",
    "\n",
    "# calculate the mean squared error\n",
    "mse = mean_squared_error(y_test, y_pred)\n",
    "\n",
    "# calculate the r2 score\n",
    "r2 = r2_score(y_test, y_pred)\n",
    "\n",
    "# print the results\n",
    "print('Mean Squared Error: ', mse)\n",
    "print('R2 Score: ', r2)\n",
    "\n",
    "# rmse\n",
    "rmse = np.sqrt(mse)\n",
    "print('Root Mean Squared Error: ', rmse)\n",
    "\n",
    "# error\n",
    "print('Error: ', rmse/toydataset['YearTop1'].mean())"
   ]
  },
  {
   "cell_type": "code",
   "execution_count": 19,
   "id": "587ef6bf",
   "metadata": {},
   "outputs": [
    {
     "data": {
      "image/png": "[encoded data removed]",
      "text/plain": [
       "<Figure size 432x288 with 1 Axes>"
      ]
     },
     "metadata": {
      "needs_background": "light"
     },
     "output_type": "display_data"
    }
   ],
   "source": [
    "# Scatter plot\n",
    "plt.scatter(y_test, y_pred, label='Data Points')\n",
    "\n",
    "# OLS Regression Line\n",
    "coefficients = np.polyfit(y_test, y_pred, 1)\n",
    "y_fit = np.polyval(coefficients, y_test)\n",
    "plt.plot(y_test, y_fit, color='red', label=f'OLS Fit: y = {coefficients[0]:.2f}x + {coefficients[1]:.2f}')\n",
    "\n",
    "# Labels and Title\n",
    "plt.xlabel('Actual YearTop1')\n",
    "plt.ylabel('Predicted YearTop1')\n",
    "plt.title('Regression Plot')\n",
    "plt.legend()\n",
    "\n",
    "# Show the plot\n",
    "plt.show()"
   ]
  },
  {
   "cell_type": "markdown",
   "id": "e1f68741",
   "metadata": {},
   "source": [
    "### We can see that we have a very low coefficient of determination meaning that our model is not ideal. Linear regression models are not meant for predicting binary features."
   ]
  },
  {
   "cell_type": "markdown",
   "id": "375d9858",
   "metadata": {},
   "source": [
    "**IV. Logistic Regression**\n",
    "\n",
    "*Select an appropriate binary variable - justify your choice if possible - to be used as output*\n",
    "\n",
    "1. Import a Logistic Regression Model from the appropriate Python packages(s)\n",
    "2. Train your model\n",
    "3. Assess the performance of your model, if possible in different ways and justify your choice\n",
    "4. Provide test statistics and standardized values to your estimated parameters\n",
    "5. Given a full interpretation of your results, including variable importance and explainability if possible"
   ]
  },
  {
   "cell_type": "code",
   "execution_count": 20,
   "id": "a1b80434",
   "metadata": {},
   "outputs": [],
   "source": [
    "from sklearn.model_selection import train_test_split\n",
    "from sklearn.linear_model import LogisticRegression\n",
    "from sklearn.impute import SimpleImputer\n",
    "from sklearn.preprocessing import StandardScaler"
   ]
  },
  {
   "cell_type": "code",
   "execution_count": 21,
   "id": "7d25d1a8",
   "metadata": {},
   "outputs": [],
   "source": [
    "# Split the data into training and test sets\n",
    "X2 = toydataset.drop(columns=['YearTop1','Game'])\n",
    "y2 = toydataset['YearTop1']\n",
    "X2_train, X2_test, y2_train, y2_test = train_test_split(X2, y2, test_size=0.2, random_state=42)"
   ]
  },
  {
   "cell_type": "code",
   "execution_count": 22,
   "id": "98387929",
   "metadata": {},
   "outputs": [
    {
     "name": "stderr",
     "output_type": "stream",
     "text": [
      "D:\\Programmes\\Anaconda\\lib\\site-packages\\sklearn\\linear_model\\_logistic.py:460: ConvergenceWarning: lbfgs failed to converge (status=1):\n",
      "STOP: TOTAL NO. of ITERATIONS REACHED LIMIT.\n",
      "\n",
      "Increase the number of iterations (max_iter) or scale the data as shown in:\n",
      "    https://scikit-learn.org/stable/modules/preprocessing.html\n",
      "Please also refer to the documentation for alternative solver options:\n",
      "    https://scikit-learn.org/stable/modules/linear_model.html#logistic-regression\n",
      "  n_iter_i = _check_optimize_result(\n"
     ]
    },
    {
     "data": {
      "text/html": [
       "<style>#sk-container-id-1 {color: black;}#sk-container-id-1 pre{padding: 0;}#sk-container-id-1 div.sk-toggleable {background-color: white;}#sk-container-id-1 label.sk-toggleable__label {cursor: pointer;display: block;width: 100%;margin-bottom: 0;padding: 0.3em;box-sizing: border-box;text-align: center;}#sk-container-id-1 label.sk-toggleable__label-arrow:before {content: \"▸\";float: left;margin-right: 0.25em;color: #696969;}#sk-container-id-1 label.sk-toggleable__label-arrow:hover:before {color: black;}#sk-container-id-1 div.sk-estimator:hover label.sk-toggleable__label-arrow:before {color: black;}#sk-container-id-1 div.sk-toggleable__content {max-height: 0;max-width: 0;overflow: hidden;text-align: left;background-color: #f0f8ff;}#sk-container-id-1 div.sk-toggleable__content pre {margin: 0.2em;color: black;border-radius: 0.25em;background-color: #f0f8ff;}#sk-container-id-1 input.sk-toggleable__control:checked~div.sk-toggleable__content {max-height: 200px;max-width: 100%;overflow: auto;}#sk-container-id-1 input.sk-toggleable__control:checked~label.sk-toggleable__label-arrow:before {content: \"▾\";}#sk-container-id-1 div.sk-estimator input.sk-toggleable__control:checked~label.sk-toggleable__label {background-color: #d4ebff;}#sk-container-id-1 div.sk-label input.sk-toggleable__control:checked~label.sk-toggleable__label {background-color: #d4ebff;}#sk-container-id-1 input.sk-hidden--visually {border: 0;clip: rect(1px 1px 1px 1px);clip: rect(1px, 1px, 1px, 1px);height: 1px;margin: -1px;overflow: hidden;padding: 0;position: absolute;width: 1px;}#sk-container-id-1 div.sk-estimator {font-family: monospace;background-color: #f0f8ff;border: 1px dotted black;border-radius: 0.25em;box-sizing: border-box;margin-bottom: 0.5em;}#sk-container-id-1 div.sk-estimator:hover {background-color: #d4ebff;}#sk-container-id-1 div.sk-parallel-item::after {content: \"\";width: 100%;border-bottom: 1px solid gray;flex-grow: 1;}#sk-container-id-1 div.sk-label:hover label.sk-toggleable__label {background-color: #d4ebff;}#sk-container-id-1 div.sk-serial::before {content: \"\";position: absolute;border-left: 1px solid gray;box-sizing: border-box;top: 0;bottom: 0;left: 50%;z-index: 0;}#sk-container-id-1 div.sk-serial {display: flex;flex-direction: column;align-items: center;background-color: white;padding-right: 0.2em;padding-left: 0.2em;position: relative;}#sk-container-id-1 div.sk-item {position: relative;z-index: 1;}#sk-container-id-1 div.sk-parallel {display: flex;align-items: stretch;justify-content: center;background-color: white;position: relative;}#sk-container-id-1 div.sk-item::before, #sk-container-id-1 div.sk-parallel-item::before {content: \"\";position: absolute;border-left: 1px solid gray;box-sizing: border-box;top: 0;bottom: 0;left: 50%;z-index: -1;}#sk-container-id-1 div.sk-parallel-item {display: flex;flex-direction: column;z-index: 1;position: relative;background-color: white;}#sk-container-id-1 div.sk-parallel-item:first-child::after {align-self: flex-end;width: 50%;}#sk-container-id-1 div.sk-parallel-item:last-child::after {align-self: flex-start;width: 50%;}#sk-container-id-1 div.sk-parallel-item:only-child::after {width: 0;}#sk-container-id-1 div.sk-dashed-wrapped {border: 1px dashed gray;margin: 0 0.4em 0.5em 0.4em;box-sizing: border-box;padding-bottom: 0.4em;background-color: white;}#sk-container-id-1 div.sk-label label {font-family: monospace;font-weight: bold;display: inline-block;line-height: 1.2em;}#sk-container-id-1 div.sk-label-container {text-align: center;}#sk-container-id-1 div.sk-container {/* jupyter's `normalize.less` sets `[hidden] { display: none; }` but bootstrap.min.css set `[hidden] { display: none !important; }` so we also need the `!important` here to be able to override the default hidden behavior on the sphinx rendered scikit-learn.org. See: https://github.com/scikit-learn/scikit-learn/issues/21755 */display: inline-block !important;position: relative;}#sk-container-id-1 div.sk-text-repr-fallback {display: none;}</style><div id=\"sk-container-id-1\" class=\"sk-top-container\"><div class=\"sk-text-repr-fallback\"><pre>LogisticRegression(random_state=42)</pre><b>In a Jupyter environment, please rerun this cell to show the HTML representation or trust the notebook. <br />On GitHub, the HTML representation is unable to render, please try loading this page with nbviewer.org.</b></div><div class=\"sk-container\" hidden><div class=\"sk-item\"><div class=\"sk-estimator sk-toggleable\"><input class=\"sk-toggleable__control sk-hidden--visually\" id=\"sk-estimator-id-1\" type=\"checkbox\" checked><label for=\"sk-estimator-id-1\" class=\"sk-toggleable__label sk-toggleable__label-arrow\">LogisticRegression</label><div class=\"sk-toggleable__content\"><pre>LogisticRegression(random_state=42)</pre></div></div></div></div></div>"
      ],
      "text/plain": [
       "LogisticRegression(random_state=42)"
      ]
     },
     "execution_count": 22,
     "metadata": {},
     "output_type": "execute_result"
    }
   ],
   "source": [
    "# Fit the Logistic Regression model\n",
    "log_reg = LogisticRegression(random_state=42)\n",
    "log_reg.fit(X2_train, y2_train)"
   ]
  },
  {
   "cell_type": "code",
   "execution_count": 23,
   "id": "c8919c99",
   "metadata": {
    "scrolled": true
   },
   "outputs": [
    {
     "data": {
      "text/plain": [
       "0.8857315598548973"
      ]
     },
     "execution_count": 23,
     "metadata": {},
     "output_type": "execute_result"
    }
   ],
   "source": [
    "log_reg.score(X2_test, y2_test)"
   ]
  },
  {
   "cell_type": "markdown",
   "id": "71db3522",
   "metadata": {},
   "source": [
    "### Our model is way more reliable than linear regression with a R² around 89%"
   ]
  },
  {
   "cell_type": "markdown",
   "id": "40b753b2",
   "metadata": {},
   "source": [
    "***K neighbors model:***\n",
    "\n",
    "Repeat the 5 previous steps for the the K Nearest Neighbors Model :\n",
    "1. Which is the best model amongst the two?\n",
    "2. What if we fitted and estimated the score of the models using all the dataset? Would there be a difference?"
   ]
  },
  {
   "cell_type": "code",
   "execution_count": null,
   "id": "6dbbc134",
   "metadata": {},
   "outputs": [],
   "source": []
  }
 ],
 "metadata": {
  "kernelspec": {
   "display_name": "Python 3",
   "language": "python",
   "name": "python3"
  },
  "language_info": {
   "codemirror_mode": {
    "name": "ipython",
    "version": 3
   },
   "file_extension": ".py",
   "mimetype": "text/x-python",
   "name": "python",
   "nbconvert_exporter": "python",
   "pygments_lexer": "ipython3",
   "version": "3.8.5"
  }
 },
 "nbformat": 4,
 "nbformat_minor": 5
}
